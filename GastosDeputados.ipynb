{
  "nbformat": 4,
  "nbformat_minor": 0,
  "metadata": {
    "colab": {
      "name": "GastosDeputados.ipynb",
      "provenance": [],
      "collapsed_sections": [],
      "toc_visible": true,
      "authorship_tag": "ABX9TyMYPCekxzzlf/JzJ23YRdd0",
      "include_colab_link": true
    },
    "kernelspec": {
      "name": "python3",
      "display_name": "Python 3"
    }
  },
  "cells": [
    {
      "cell_type": "markdown",
      "metadata": {
        "id": "view-in-github",
        "colab_type": "text"
      },
      "source": [
        "<a href=\"https://colab.research.google.com/github/dennissrn/EntregaTrab/blob/master/GastosDeputados.ipynb\" target=\"_parent\"><img src=\"https://colab.research.google.com/assets/colab-badge.svg\" alt=\"Open In Colab\"/></a>"
      ]
    },
    {
      "cell_type": "markdown",
      "metadata": {
        "id": "26VzKya4ZxCv",
        "colab_type": "text"
      },
      "source": [
        "\n",
        "# Análise dos dados da Câmara dos Deputados\n",
        "\n",
        "\n",
        "A Câmara dos Deputados possui um serviço de dados abertos desde 2006, que foi lançada com o nome de \"SIT Câmara\". Com a promulgação da \"Lei de Acesso à Informação\", o cadastro deixou de ser necessário e os dados estão disponíveis no site da Câmara nomeado [Dados Abertos](https://dadosabertos.camara.leg.br).\n",
        "\n",
        "![texto alternativo](https://cdn.domtotal.com/img/noticias/2020-01/1419361_434615.jpg)\n",
        "\n",
        "\n"
      ]
    },
    {
      "cell_type": "code",
      "metadata": {
        "id": "V0CTZjvXUYMZ",
        "colab_type": "code",
        "colab": {}
      },
      "source": [
        "import pandas as pd\n",
        "import matplotlib as plt\n",
        "\n",
        "deputados = pd.read_csv(\"Ano-2020.csv\",sep = \";\", encoding='UTF-8')"
      ],
      "execution_count": 5,
      "outputs": []
    },
    {
      "cell_type": "code",
      "metadata": {
        "id": "QLV6TDw6c_SX",
        "colab_type": "code",
        "colab": {
          "base_uri": "https://localhost:8080/",
          "height": 34
        },
        "outputId": "e3cf3c68-977d-4b8d-952f-634186497980"
      },
      "source": [
        "# It's 68876 rows and 31 columns\n",
        "deputados.shape"
      ],
      "execution_count": null,
      "outputs": [
        {
          "output_type": "execute_result",
          "data": {
            "text/plain": [
              "(6072, 31)"
            ]
          },
          "metadata": {
            "tags": []
          },
          "execution_count": 3
        }
      ]
    },
    {
      "cell_type": "markdown",
      "metadata": {
        "id": "gKzhOiyiq6xE",
        "colab_type": "text"
      },
      "source": [
        "- A tabela tem 68876 linhas e 31 colunas."
      ]
    },
    {
      "cell_type": "code",
      "metadata": {
        "id": "be-pvq1tax_Y",
        "colab_type": "code",
        "colab": {
          "base_uri": "https://localhost:8080/",
          "height": 170
        },
        "outputId": "62bd6bd4-040a-4fa6-85e1-b689026f93d8"
      },
      "source": [
        "# See columns\n",
        "deputados.columns"
      ],
      "execution_count": null,
      "outputs": [
        {
          "output_type": "execute_result",
          "data": {
            "text/plain": [
              "Index(['txNomeParlamentar', 'cpf', 'ideCadastro', 'nuCarteiraParlamentar',\n",
              "       'nuLegislatura', 'sgUF', 'sgPartido', 'codLegislatura', 'numSubCota',\n",
              "       'txtDescricao', 'numEspecificacaoSubCota', 'txtDescricaoEspecificacao',\n",
              "       'txtFornecedor', 'txtCNPJCPF', 'txtNumero', 'indTipoDocumento',\n",
              "       'datEmissao', 'vlrDocumento', 'vlrGlosa', 'vlrLiquido', 'numMes',\n",
              "       'numAno', 'numParcela', 'txtPassageiro', 'txtTrecho', 'numLote',\n",
              "       'numRessarcimento', 'vlrRestituicao', 'nuDeputadoId', 'ideDocumento',\n",
              "       'urlDocumento'],\n",
              "      dtype='object')"
            ]
          },
          "metadata": {
            "tags": []
          },
          "execution_count": 9
        }
      ]
    },
    {
      "cell_type": "markdown",
      "metadata": {
        "id": "ckcgZTfirPHf",
        "colab_type": "text"
      },
      "source": [
        "- Retornando o nome de todas as colunas, para sabermos com o que iremos trabalhar."
      ]
    },
    {
      "cell_type": "code",
      "metadata": {
        "id": "_XUfQSdsYSyW",
        "colab_type": "code",
        "colab": {
          "base_uri": "https://localhost:8080/",
          "height": 855
        },
        "outputId": "48a66d7b-76b7-4e71-be1e-a02a3cf06581"
      },
      "source": [
        "# Visualize first rows\n",
        "deputados.head(10)"
      ],
      "execution_count": 6,
      "outputs": [
        {
          "output_type": "execute_result",
          "data": {
            "text/html": [
              "<div>\n",
              "<style scoped>\n",
              "    .dataframe tbody tr th:only-of-type {\n",
              "        vertical-align: middle;\n",
              "    }\n",
              "\n",
              "    .dataframe tbody tr th {\n",
              "        vertical-align: top;\n",
              "    }\n",
              "\n",
              "    .dataframe thead th {\n",
              "        text-align: right;\n",
              "    }\n",
              "</style>\n",
              "<table border=\"1\" class=\"dataframe\">\n",
              "  <thead>\n",
              "    <tr style=\"text-align: right;\">\n",
              "      <th></th>\n",
              "      <th>txNomeParlamentar</th>\n",
              "      <th>cpf</th>\n",
              "      <th>ideCadastro</th>\n",
              "      <th>nuCarteiraParlamentar</th>\n",
              "      <th>nuLegislatura</th>\n",
              "      <th>sgUF</th>\n",
              "      <th>sgPartido</th>\n",
              "      <th>codLegislatura</th>\n",
              "      <th>numSubCota</th>\n",
              "      <th>txtDescricao</th>\n",
              "      <th>numEspecificacaoSubCota</th>\n",
              "      <th>txtDescricaoEspecificacao</th>\n",
              "      <th>txtFornecedor</th>\n",
              "      <th>txtCNPJCPF</th>\n",
              "      <th>txtNumero</th>\n",
              "      <th>indTipoDocumento</th>\n",
              "      <th>datEmissao</th>\n",
              "      <th>vlrDocumento</th>\n",
              "      <th>vlrGlosa</th>\n",
              "      <th>vlrLiquido</th>\n",
              "      <th>numMes</th>\n",
              "      <th>numAno</th>\n",
              "      <th>numParcela</th>\n",
              "      <th>txtPassageiro</th>\n",
              "      <th>txtTrecho</th>\n",
              "      <th>numLote</th>\n",
              "      <th>numRessarcimento</th>\n",
              "      <th>vlrRestituicao</th>\n",
              "      <th>nuDeputadoId</th>\n",
              "      <th>ideDocumento</th>\n",
              "      <th>urlDocumento</th>\n",
              "    </tr>\n",
              "  </thead>\n",
              "  <tbody>\n",
              "    <tr>\n",
              "      <th>0</th>\n",
              "      <td>DEM</td>\n",
              "      <td>NaN</td>\n",
              "      <td>NaN</td>\n",
              "      <td>NaN</td>\n",
              "      <td>2019</td>\n",
              "      <td>NaN</td>\n",
              "      <td>NaN</td>\n",
              "      <td>56</td>\n",
              "      <td>4</td>\n",
              "      <td>CONSULTORIAS, PESQUISAS E TRABALHOS TÉCNICOS.</td>\n",
              "      <td>0</td>\n",
              "      <td>NaN</td>\n",
              "      <td>LINEAR COMUNICACAO LTDA - EPP</td>\n",
              "      <td>109.472.430/0019-5</td>\n",
              "      <td>2737</td>\n",
              "      <td>4</td>\n",
              "      <td>2020-04-27T00:00:00</td>\n",
              "      <td>1527.28</td>\n",
              "      <td>0.0</td>\n",
              "      <td>1527.28</td>\n",
              "      <td>4</td>\n",
              "      <td>2020</td>\n",
              "      <td>0</td>\n",
              "      <td>NaN</td>\n",
              "      <td>NaN</td>\n",
              "      <td>1693866</td>\n",
              "      <td>NaN</td>\n",
              "      <td>NaN</td>\n",
              "      <td>2713</td>\n",
              "      <td>7050172</td>\n",
              "      <td>http://camara.leg.br/cota-parlamentar/nota-fis...</td>\n",
              "    </tr>\n",
              "    <tr>\n",
              "      <th>1</th>\n",
              "      <td>DEM</td>\n",
              "      <td>NaN</td>\n",
              "      <td>NaN</td>\n",
              "      <td>NaN</td>\n",
              "      <td>2019</td>\n",
              "      <td>NaN</td>\n",
              "      <td>NaN</td>\n",
              "      <td>56</td>\n",
              "      <td>4</td>\n",
              "      <td>CONSULTORIAS, PESQUISAS E TRABALHOS TÉCNICOS.</td>\n",
              "      <td>0</td>\n",
              "      <td>NaN</td>\n",
              "      <td>LINEAR COMUNICACAO LTDA - EPP</td>\n",
              "      <td>109.472.430/0019-5</td>\n",
              "      <td>2764</td>\n",
              "      <td>4</td>\n",
              "      <td>2020-05-27T00:00:00</td>\n",
              "      <td>1527.28</td>\n",
              "      <td>0.0</td>\n",
              "      <td>1527.28</td>\n",
              "      <td>5</td>\n",
              "      <td>2020</td>\n",
              "      <td>0</td>\n",
              "      <td>NaN</td>\n",
              "      <td>NaN</td>\n",
              "      <td>1698547</td>\n",
              "      <td>NaN</td>\n",
              "      <td>NaN</td>\n",
              "      <td>2713</td>\n",
              "      <td>7058437</td>\n",
              "      <td>http://camara.leg.br/cota-parlamentar/nota-fis...</td>\n",
              "    </tr>\n",
              "    <tr>\n",
              "      <th>2</th>\n",
              "      <td>DEM</td>\n",
              "      <td>NaN</td>\n",
              "      <td>NaN</td>\n",
              "      <td>NaN</td>\n",
              "      <td>2019</td>\n",
              "      <td>NaN</td>\n",
              "      <td>NaN</td>\n",
              "      <td>56</td>\n",
              "      <td>4</td>\n",
              "      <td>CONSULTORIAS, PESQUISAS E TRABALHOS TÉCNICOS.</td>\n",
              "      <td>0</td>\n",
              "      <td>NaN</td>\n",
              "      <td>LINEAR COMUNICACAO LTDA - EPP</td>\n",
              "      <td>109.472.430/0019-5</td>\n",
              "      <td>2809</td>\n",
              "      <td>4</td>\n",
              "      <td>2020-07-27T00:00:00</td>\n",
              "      <td>1527.28</td>\n",
              "      <td>0.0</td>\n",
              "      <td>1527.28</td>\n",
              "      <td>7</td>\n",
              "      <td>2020</td>\n",
              "      <td>0</td>\n",
              "      <td>NaN</td>\n",
              "      <td>NaN</td>\n",
              "      <td>1709149</td>\n",
              "      <td>NaN</td>\n",
              "      <td>NaN</td>\n",
              "      <td>2713</td>\n",
              "      <td>7078508</td>\n",
              "      <td>http://camara.leg.br/cota-parlamentar/nota-fis...</td>\n",
              "    </tr>\n",
              "    <tr>\n",
              "      <th>3</th>\n",
              "      <td>DEM</td>\n",
              "      <td>NaN</td>\n",
              "      <td>NaN</td>\n",
              "      <td>NaN</td>\n",
              "      <td>2019</td>\n",
              "      <td>NaN</td>\n",
              "      <td>NaN</td>\n",
              "      <td>56</td>\n",
              "      <td>5</td>\n",
              "      <td>DIVULGAÇÃO DA ATIVIDADE PARLAMENTAR.</td>\n",
              "      <td>0</td>\n",
              "      <td>NaN</td>\n",
              "      <td>LINEAR COMUNICACAO LTDA - EPP</td>\n",
              "      <td>109.472.430/0019-5</td>\n",
              "      <td>2786</td>\n",
              "      <td>4</td>\n",
              "      <td>2020-06-26T00:00:00</td>\n",
              "      <td>1527.28</td>\n",
              "      <td>0.0</td>\n",
              "      <td>1527.28</td>\n",
              "      <td>6</td>\n",
              "      <td>2020</td>\n",
              "      <td>0</td>\n",
              "      <td>NaN</td>\n",
              "      <td>NaN</td>\n",
              "      <td>1703569</td>\n",
              "      <td>NaN</td>\n",
              "      <td>NaN</td>\n",
              "      <td>2713</td>\n",
              "      <td>7067718</td>\n",
              "      <td>http://camara.leg.br/cota-parlamentar/nota-fis...</td>\n",
              "    </tr>\n",
              "    <tr>\n",
              "      <th>4</th>\n",
              "      <td>DEM</td>\n",
              "      <td>NaN</td>\n",
              "      <td>NaN</td>\n",
              "      <td>NaN</td>\n",
              "      <td>2019</td>\n",
              "      <td>NaN</td>\n",
              "      <td>NaN</td>\n",
              "      <td>56</td>\n",
              "      <td>12</td>\n",
              "      <td>ASSINATURA DE PUBLICAÇÕES</td>\n",
              "      <td>0</td>\n",
              "      <td>NaN</td>\n",
              "      <td>DIGITAL RIVER IRELAND, LTD.</td>\n",
              "      <td>000.000.000/0001-0</td>\n",
              "      <td>45375674408</td>\n",
              "      <td>1</td>\n",
              "      <td>2020-02-19T00:00:00</td>\n",
              "      <td>613.61</td>\n",
              "      <td>0.0</td>\n",
              "      <td>613.61</td>\n",
              "      <td>2</td>\n",
              "      <td>2020</td>\n",
              "      <td>0</td>\n",
              "      <td>NaN</td>\n",
              "      <td>NaN</td>\n",
              "      <td>1692485</td>\n",
              "      <td>NaN</td>\n",
              "      <td>NaN</td>\n",
              "      <td>2713</td>\n",
              "      <td>7047615</td>\n",
              "      <td>NaN</td>\n",
              "    </tr>\n",
              "    <tr>\n",
              "      <th>5</th>\n",
              "      <td>DEM</td>\n",
              "      <td>NaN</td>\n",
              "      <td>NaN</td>\n",
              "      <td>NaN</td>\n",
              "      <td>2019</td>\n",
              "      <td>NaN</td>\n",
              "      <td>NaN</td>\n",
              "      <td>56</td>\n",
              "      <td>12</td>\n",
              "      <td>ASSINATURA DE PUBLICAÇÕES</td>\n",
              "      <td>0</td>\n",
              "      <td>NaN</td>\n",
              "      <td>LINEAR COMUNICACAO LTDA - EPP</td>\n",
              "      <td>109.472.430/0019-5</td>\n",
              "      <td>2714</td>\n",
              "      <td>4</td>\n",
              "      <td>2020-03-26T00:00:00</td>\n",
              "      <td>1527.28</td>\n",
              "      <td>0.0</td>\n",
              "      <td>1527.28</td>\n",
              "      <td>3</td>\n",
              "      <td>2020</td>\n",
              "      <td>0</td>\n",
              "      <td>NaN</td>\n",
              "      <td>NaN</td>\n",
              "      <td>1689241</td>\n",
              "      <td>NaN</td>\n",
              "      <td>NaN</td>\n",
              "      <td>2713</td>\n",
              "      <td>7042111</td>\n",
              "      <td>http://camara.leg.br/cota-parlamentar/nota-fis...</td>\n",
              "    </tr>\n",
              "    <tr>\n",
              "      <th>6</th>\n",
              "      <td>DEM</td>\n",
              "      <td>NaN</td>\n",
              "      <td>NaN</td>\n",
              "      <td>NaN</td>\n",
              "      <td>2019</td>\n",
              "      <td>NaN</td>\n",
              "      <td>NaN</td>\n",
              "      <td>56</td>\n",
              "      <td>13</td>\n",
              "      <td>FORNECIMENTO DE ALIMENTAÇÃO DO PARLAMENTAR</td>\n",
              "      <td>0</td>\n",
              "      <td>NaN</td>\n",
              "      <td>ARTESANAL SERVICOS DE ALIMENTACAO E BUFFET EIRELI</td>\n",
              "      <td>228.362.100/0015-7</td>\n",
              "      <td>66</td>\n",
              "      <td>4</td>\n",
              "      <td>2020-07-10T00:00:00</td>\n",
              "      <td>98.80</td>\n",
              "      <td>0.0</td>\n",
              "      <td>98.80</td>\n",
              "      <td>7</td>\n",
              "      <td>2020</td>\n",
              "      <td>0</td>\n",
              "      <td>NaN</td>\n",
              "      <td>NaN</td>\n",
              "      <td>1705435</td>\n",
              "      <td>NaN</td>\n",
              "      <td>NaN</td>\n",
              "      <td>2713</td>\n",
              "      <td>7071059</td>\n",
              "      <td>http://camara.leg.br/cota-parlamentar/nota-fis...</td>\n",
              "    </tr>\n",
              "    <tr>\n",
              "      <th>7</th>\n",
              "      <td>DEM</td>\n",
              "      <td>NaN</td>\n",
              "      <td>NaN</td>\n",
              "      <td>NaN</td>\n",
              "      <td>2019</td>\n",
              "      <td>NaN</td>\n",
              "      <td>NaN</td>\n",
              "      <td>56</td>\n",
              "      <td>13</td>\n",
              "      <td>FORNECIMENTO DE ALIMENTAÇÃO DO PARLAMENTAR</td>\n",
              "      <td>0</td>\n",
              "      <td>NaN</td>\n",
              "      <td>PAPRICA BURGER COMERCIO DE ALIMENTOS LTDA</td>\n",
              "      <td>261.992.490/0016-1</td>\n",
              "      <td>307506</td>\n",
              "      <td>4</td>\n",
              "      <td>2020-07-10T00:00:00</td>\n",
              "      <td>318.00</td>\n",
              "      <td>0.0</td>\n",
              "      <td>318.00</td>\n",
              "      <td>7</td>\n",
              "      <td>2020</td>\n",
              "      <td>0</td>\n",
              "      <td>NaN</td>\n",
              "      <td>NaN</td>\n",
              "      <td>1705374</td>\n",
              "      <td>NaN</td>\n",
              "      <td>NaN</td>\n",
              "      <td>2713</td>\n",
              "      <td>7070958</td>\n",
              "      <td>http://camara.leg.br/cota-parlamentar/nota-fis...</td>\n",
              "    </tr>\n",
              "    <tr>\n",
              "      <th>8</th>\n",
              "      <td>DEM</td>\n",
              "      <td>NaN</td>\n",
              "      <td>NaN</td>\n",
              "      <td>NaN</td>\n",
              "      <td>2019</td>\n",
              "      <td>NaN</td>\n",
              "      <td>NaN</td>\n",
              "      <td>56</td>\n",
              "      <td>13</td>\n",
              "      <td>FORNECIMENTO DE ALIMENTAÇÃO DO PARLAMENTAR</td>\n",
              "      <td>0</td>\n",
              "      <td>NaN</td>\n",
              "      <td>SHOIO COMERCIO DE ALIMENTOS LTDA</td>\n",
              "      <td>281.202.680/0018-6</td>\n",
              "      <td>21494</td>\n",
              "      <td>4</td>\n",
              "      <td>2020-07-06T00:00:00</td>\n",
              "      <td>184.45</td>\n",
              "      <td>0.0</td>\n",
              "      <td>184.45</td>\n",
              "      <td>7</td>\n",
              "      <td>2020</td>\n",
              "      <td>0</td>\n",
              "      <td>NaN</td>\n",
              "      <td>NaN</td>\n",
              "      <td>1705364</td>\n",
              "      <td>NaN</td>\n",
              "      <td>NaN</td>\n",
              "      <td>2713</td>\n",
              "      <td>7070935</td>\n",
              "      <td>http://camara.leg.br/cota-parlamentar/nota-fis...</td>\n",
              "    </tr>\n",
              "    <tr>\n",
              "      <th>9</th>\n",
              "      <td>LIDERANÇA DO PSDB</td>\n",
              "      <td>NaN</td>\n",
              "      <td>NaN</td>\n",
              "      <td>NaN</td>\n",
              "      <td>2019</td>\n",
              "      <td>NaN</td>\n",
              "      <td>NaN</td>\n",
              "      <td>56</td>\n",
              "      <td>3</td>\n",
              "      <td>COMBUSTÍVEIS E LUBRIFICANTES.</td>\n",
              "      <td>1</td>\n",
              "      <td>Veículos Automotores</td>\n",
              "      <td>POSTO DA TORRE EIRELI - EPP</td>\n",
              "      <td>044.731.930/0015-9</td>\n",
              "      <td>298526</td>\n",
              "      <td>4</td>\n",
              "      <td>2020-03-10T00:00:00</td>\n",
              "      <td>110.86</td>\n",
              "      <td>0.0</td>\n",
              "      <td>110.86</td>\n",
              "      <td>3</td>\n",
              "      <td>2020</td>\n",
              "      <td>0</td>\n",
              "      <td>NaN</td>\n",
              "      <td>NaN</td>\n",
              "      <td>1684228</td>\n",
              "      <td>NaN</td>\n",
              "      <td>NaN</td>\n",
              "      <td>2442</td>\n",
              "      <td>7031734</td>\n",
              "      <td>http://camara.leg.br/cota-parlamentar/nota-fis...</td>\n",
              "    </tr>\n",
              "  </tbody>\n",
              "</table>\n",
              "</div>"
            ],
            "text/plain": [
              "   txNomeParlamentar  ...                                       urlDocumento\n",
              "0                DEM  ...  http://camara.leg.br/cota-parlamentar/nota-fis...\n",
              "1                DEM  ...  http://camara.leg.br/cota-parlamentar/nota-fis...\n",
              "2                DEM  ...  http://camara.leg.br/cota-parlamentar/nota-fis...\n",
              "3                DEM  ...  http://camara.leg.br/cota-parlamentar/nota-fis...\n",
              "4                DEM  ...                                                NaN\n",
              "5                DEM  ...  http://camara.leg.br/cota-parlamentar/nota-fis...\n",
              "6                DEM  ...  http://camara.leg.br/cota-parlamentar/nota-fis...\n",
              "7                DEM  ...  http://camara.leg.br/cota-parlamentar/nota-fis...\n",
              "8                DEM  ...  http://camara.leg.br/cota-parlamentar/nota-fis...\n",
              "9  LIDERANÇA DO PSDB  ...  http://camara.leg.br/cota-parlamentar/nota-fis...\n",
              "\n",
              "[10 rows x 31 columns]"
            ]
          },
          "metadata": {
            "tags": []
          },
          "execution_count": 6
        }
      ]
    },
    {
      "cell_type": "code",
      "metadata": {
        "id": "tyo5Eg5GVEfb",
        "colab_type": "code",
        "colab": {
          "base_uri": "https://localhost:8080/",
          "height": 889
        },
        "outputId": "c9fdff76-6866-4b87-fede-c8d998270829"
      },
      "source": [
        "deputados.tail(10)"
      ],
      "execution_count": 7,
      "outputs": [
        {
          "output_type": "execute_result",
          "data": {
            "text/html": [
              "<div>\n",
              "<style scoped>\n",
              "    .dataframe tbody tr th:only-of-type {\n",
              "        vertical-align: middle;\n",
              "    }\n",
              "\n",
              "    .dataframe tbody tr th {\n",
              "        vertical-align: top;\n",
              "    }\n",
              "\n",
              "    .dataframe thead th {\n",
              "        text-align: right;\n",
              "    }\n",
              "</style>\n",
              "<table border=\"1\" class=\"dataframe\">\n",
              "  <thead>\n",
              "    <tr style=\"text-align: right;\">\n",
              "      <th></th>\n",
              "      <th>txNomeParlamentar</th>\n",
              "      <th>cpf</th>\n",
              "      <th>ideCadastro</th>\n",
              "      <th>nuCarteiraParlamentar</th>\n",
              "      <th>nuLegislatura</th>\n",
              "      <th>sgUF</th>\n",
              "      <th>sgPartido</th>\n",
              "      <th>codLegislatura</th>\n",
              "      <th>numSubCota</th>\n",
              "      <th>txtDescricao</th>\n",
              "      <th>numEspecificacaoSubCota</th>\n",
              "      <th>txtDescricaoEspecificacao</th>\n",
              "      <th>txtFornecedor</th>\n",
              "      <th>txtCNPJCPF</th>\n",
              "      <th>txtNumero</th>\n",
              "      <th>indTipoDocumento</th>\n",
              "      <th>datEmissao</th>\n",
              "      <th>vlrDocumento</th>\n",
              "      <th>vlrGlosa</th>\n",
              "      <th>vlrLiquido</th>\n",
              "      <th>numMes</th>\n",
              "      <th>numAno</th>\n",
              "      <th>numParcela</th>\n",
              "      <th>txtPassageiro</th>\n",
              "      <th>txtTrecho</th>\n",
              "      <th>numLote</th>\n",
              "      <th>numRessarcimento</th>\n",
              "      <th>vlrRestituicao</th>\n",
              "      <th>nuDeputadoId</th>\n",
              "      <th>ideDocumento</th>\n",
              "      <th>urlDocumento</th>\n",
              "    </tr>\n",
              "  </thead>\n",
              "  <tbody>\n",
              "    <tr>\n",
              "      <th>68866</th>\n",
              "      <td>Carla Dickson</td>\n",
              "      <td>2.336272e+09</td>\n",
              "      <td>213762.0</td>\n",
              "      <td>557.0</td>\n",
              "      <td>2019</td>\n",
              "      <td>RN</td>\n",
              "      <td>PROS</td>\n",
              "      <td>56</td>\n",
              "      <td>3</td>\n",
              "      <td>COMBUSTÍVEIS E LUBRIFICANTES.</td>\n",
              "      <td>1</td>\n",
              "      <td>Veículos Automotores</td>\n",
              "      <td>AUTO POSTO GOLDEN GAS 202 LTDA</td>\n",
              "      <td>308.801.120/0014-5</td>\n",
              "      <td>97068</td>\n",
              "      <td>4</td>\n",
              "      <td>2020-07-22T00:00:00</td>\n",
              "      <td>212.91</td>\n",
              "      <td>0.00</td>\n",
              "      <td>212.91</td>\n",
              "      <td>7</td>\n",
              "      <td>2020</td>\n",
              "      <td>0</td>\n",
              "      <td>NaN</td>\n",
              "      <td>NaN</td>\n",
              "      <td>1708929</td>\n",
              "      <td>NaN</td>\n",
              "      <td>NaN</td>\n",
              "      <td>3468</td>\n",
              "      <td>7078106</td>\n",
              "      <td>http://camara.leg.br/cota-parlamentar/nota-fis...</td>\n",
              "    </tr>\n",
              "    <tr>\n",
              "      <th>68867</th>\n",
              "      <td>Carla Dickson</td>\n",
              "      <td>2.336272e+09</td>\n",
              "      <td>213762.0</td>\n",
              "      <td>557.0</td>\n",
              "      <td>2019</td>\n",
              "      <td>RN</td>\n",
              "      <td>PROS</td>\n",
              "      <td>56</td>\n",
              "      <td>3</td>\n",
              "      <td>COMBUSTÍVEIS E LUBRIFICANTES.</td>\n",
              "      <td>1</td>\n",
              "      <td>Veículos Automotores</td>\n",
              "      <td>AUTO SHOPPING QL 06 COMERCIO DE DERIV DE PETRO...</td>\n",
              "      <td>006.474.400/0013-5</td>\n",
              "      <td>15253</td>\n",
              "      <td>4</td>\n",
              "      <td>2020-07-13T00:00:00</td>\n",
              "      <td>124.97</td>\n",
              "      <td>0.00</td>\n",
              "      <td>124.97</td>\n",
              "      <td>7</td>\n",
              "      <td>2020</td>\n",
              "      <td>0</td>\n",
              "      <td>NaN</td>\n",
              "      <td>NaN</td>\n",
              "      <td>1705845</td>\n",
              "      <td>NaN</td>\n",
              "      <td>NaN</td>\n",
              "      <td>3468</td>\n",
              "      <td>7071968</td>\n",
              "      <td>http://camara.leg.br/cota-parlamentar/nota-fis...</td>\n",
              "    </tr>\n",
              "    <tr>\n",
              "      <th>68868</th>\n",
              "      <td>Carla Dickson</td>\n",
              "      <td>2.336272e+09</td>\n",
              "      <td>213762.0</td>\n",
              "      <td>557.0</td>\n",
              "      <td>2019</td>\n",
              "      <td>RN</td>\n",
              "      <td>PROS</td>\n",
              "      <td>56</td>\n",
              "      <td>3</td>\n",
              "      <td>COMBUSTÍVEIS E LUBRIFICANTES.</td>\n",
              "      <td>1</td>\n",
              "      <td>Veículos Automotores</td>\n",
              "      <td>CASCOL COMBUSTIVEIS PARA VEICULOS LTDA</td>\n",
              "      <td>003.065.970/0761-4</td>\n",
              "      <td>699686</td>\n",
              "      <td>4</td>\n",
              "      <td>2020-07-28T00:00:00</td>\n",
              "      <td>100.00</td>\n",
              "      <td>0.00</td>\n",
              "      <td>100.00</td>\n",
              "      <td>7</td>\n",
              "      <td>2020</td>\n",
              "      <td>0</td>\n",
              "      <td>NaN</td>\n",
              "      <td>NaN</td>\n",
              "      <td>1708929</td>\n",
              "      <td>NaN</td>\n",
              "      <td>NaN</td>\n",
              "      <td>3468</td>\n",
              "      <td>7078097</td>\n",
              "      <td>http://camara.leg.br/cota-parlamentar/nota-fis...</td>\n",
              "    </tr>\n",
              "    <tr>\n",
              "      <th>68869</th>\n",
              "      <td>Carla Dickson</td>\n",
              "      <td>2.336272e+09</td>\n",
              "      <td>213762.0</td>\n",
              "      <td>557.0</td>\n",
              "      <td>2019</td>\n",
              "      <td>RN</td>\n",
              "      <td>PROS</td>\n",
              "      <td>56</td>\n",
              "      <td>3</td>\n",
              "      <td>COMBUSTÍVEIS E LUBRIFICANTES.</td>\n",
              "      <td>1</td>\n",
              "      <td>Veículos Automotores</td>\n",
              "      <td>GOES COMBUSTIVEIS LUBRIRICANTES E GLP LTDA</td>\n",
              "      <td>054.543.900/0019-3</td>\n",
              "      <td>248673</td>\n",
              "      <td>4</td>\n",
              "      <td>2020-07-16T00:00:00</td>\n",
              "      <td>157.51</td>\n",
              "      <td>0.00</td>\n",
              "      <td>157.51</td>\n",
              "      <td>7</td>\n",
              "      <td>2020</td>\n",
              "      <td>0</td>\n",
              "      <td>NaN</td>\n",
              "      <td>NaN</td>\n",
              "      <td>1708929</td>\n",
              "      <td>NaN</td>\n",
              "      <td>NaN</td>\n",
              "      <td>3468</td>\n",
              "      <td>7078112</td>\n",
              "      <td>http://camara.leg.br/cota-parlamentar/nota-fis...</td>\n",
              "    </tr>\n",
              "    <tr>\n",
              "      <th>68870</th>\n",
              "      <td>Carla Dickson</td>\n",
              "      <td>2.336272e+09</td>\n",
              "      <td>213762.0</td>\n",
              "      <td>557.0</td>\n",
              "      <td>2019</td>\n",
              "      <td>RN</td>\n",
              "      <td>PROS</td>\n",
              "      <td>56</td>\n",
              "      <td>4</td>\n",
              "      <td>CONSULTORIAS, PESQUISAS E TRABALHOS TÉCNICOS.</td>\n",
              "      <td>0</td>\n",
              "      <td>NaN</td>\n",
              "      <td>DUARTE &amp; GONTIJO ADVOGADOS ASSOCIADOS</td>\n",
              "      <td>267.028.310/0010-7</td>\n",
              "      <td>55</td>\n",
              "      <td>4</td>\n",
              "      <td>2020-07-07T00:00:00</td>\n",
              "      <td>5000.00</td>\n",
              "      <td>0.00</td>\n",
              "      <td>5000.00</td>\n",
              "      <td>6</td>\n",
              "      <td>2020</td>\n",
              "      <td>0</td>\n",
              "      <td>NaN</td>\n",
              "      <td>NaN</td>\n",
              "      <td>1704770</td>\n",
              "      <td>NaN</td>\n",
              "      <td>NaN</td>\n",
              "      <td>3468</td>\n",
              "      <td>7069959</td>\n",
              "      <td>http://camara.leg.br/cota-parlamentar/nota-fis...</td>\n",
              "    </tr>\n",
              "    <tr>\n",
              "      <th>68871</th>\n",
              "      <td>Carla Dickson</td>\n",
              "      <td>2.336272e+09</td>\n",
              "      <td>213762.0</td>\n",
              "      <td>557.0</td>\n",
              "      <td>2019</td>\n",
              "      <td>RN</td>\n",
              "      <td>PROS</td>\n",
              "      <td>56</td>\n",
              "      <td>5</td>\n",
              "      <td>DIVULGAÇÃO DA ATIVIDADE PARLAMENTAR.</td>\n",
              "      <td>0</td>\n",
              "      <td>NaN</td>\n",
              "      <td>DESTA TECNOLOGIA DA INFORMACAO</td>\n",
              "      <td>356.997.160/0010-3</td>\n",
              "      <td>0000000019</td>\n",
              "      <td>0</td>\n",
              "      <td>2020-07-06T00:00:00</td>\n",
              "      <td>7000.00</td>\n",
              "      <td>0.00</td>\n",
              "      <td>7000.00</td>\n",
              "      <td>6</td>\n",
              "      <td>2020</td>\n",
              "      <td>0</td>\n",
              "      <td>NaN</td>\n",
              "      <td>NaN</td>\n",
              "      <td>1704731</td>\n",
              "      <td>NaN</td>\n",
              "      <td>NaN</td>\n",
              "      <td>3468</td>\n",
              "      <td>7069864</td>\n",
              "      <td>https://www.camara.leg.br/cota-parlamentar/doc...</td>\n",
              "    </tr>\n",
              "    <tr>\n",
              "      <th>68872</th>\n",
              "      <td>Carla Dickson</td>\n",
              "      <td>2.336272e+09</td>\n",
              "      <td>213762.0</td>\n",
              "      <td>557.0</td>\n",
              "      <td>2019</td>\n",
              "      <td>RN</td>\n",
              "      <td>PROS</td>\n",
              "      <td>56</td>\n",
              "      <td>8</td>\n",
              "      <td>SERVIÇO DE SEGURANÇA PRESTADO POR EMPRESA ESPE...</td>\n",
              "      <td>0</td>\n",
              "      <td>NaN</td>\n",
              "      <td>ATIVA SISTEMAS ELETRÔNICOS</td>\n",
              "      <td>140.458.360/0011-7</td>\n",
              "      <td>0000002839</td>\n",
              "      <td>0</td>\n",
              "      <td>2020-07-01T00:00:00</td>\n",
              "      <td>460.00</td>\n",
              "      <td>245.33</td>\n",
              "      <td>214.67</td>\n",
              "      <td>6</td>\n",
              "      <td>2020</td>\n",
              "      <td>0</td>\n",
              "      <td>NaN</td>\n",
              "      <td>NaN</td>\n",
              "      <td>1706858</td>\n",
              "      <td>NaN</td>\n",
              "      <td>NaN</td>\n",
              "      <td>3468</td>\n",
              "      <td>7073871</td>\n",
              "      <td>https://www.camara.leg.br/cota-parlamentar/doc...</td>\n",
              "    </tr>\n",
              "    <tr>\n",
              "      <th>68873</th>\n",
              "      <td>Carla Dickson</td>\n",
              "      <td>2.336272e+09</td>\n",
              "      <td>213762.0</td>\n",
              "      <td>557.0</td>\n",
              "      <td>2019</td>\n",
              "      <td>RN</td>\n",
              "      <td>PROS</td>\n",
              "      <td>56</td>\n",
              "      <td>11</td>\n",
              "      <td>SERVIÇOS POSTAIS</td>\n",
              "      <td>0</td>\n",
              "      <td>NaN</td>\n",
              "      <td>CORREIOS - SEDEX CONVENCIONAL</td>\n",
              "      <td>000.000.000/0000-7</td>\n",
              "      <td>RSP : 2306608</td>\n",
              "      <td>1</td>\n",
              "      <td>2020-07-17T15:20:51</td>\n",
              "      <td>227.87</td>\n",
              "      <td>0.00</td>\n",
              "      <td>227.87</td>\n",
              "      <td>7</td>\n",
              "      <td>2020</td>\n",
              "      <td>0</td>\n",
              "      <td>NaN</td>\n",
              "      <td>NaN</td>\n",
              "      <td>0</td>\n",
              "      <td>0.0</td>\n",
              "      <td>NaN</td>\n",
              "      <td>3468</td>\n",
              "      <td>0</td>\n",
              "      <td>NaN</td>\n",
              "    </tr>\n",
              "    <tr>\n",
              "      <th>68874</th>\n",
              "      <td>Deuzinho Filho</td>\n",
              "      <td>5.024395e+10</td>\n",
              "      <td>213856.0</td>\n",
              "      <td>559.0</td>\n",
              "      <td>2019</td>\n",
              "      <td>CE</td>\n",
              "      <td>REPUBLICANOS</td>\n",
              "      <td>56</td>\n",
              "      <td>3</td>\n",
              "      <td>COMBUSTÍVEIS E LUBRIFICANTES.</td>\n",
              "      <td>1</td>\n",
              "      <td>Veículos Automotores</td>\n",
              "      <td>CASCOL COMBUSTIVEIS PARA VEICULOS LTDA</td>\n",
              "      <td>003.065.970/0710-0</td>\n",
              "      <td>1139625</td>\n",
              "      <td>4</td>\n",
              "      <td>2020-07-07T00:00:00</td>\n",
              "      <td>100.00</td>\n",
              "      <td>0.00</td>\n",
              "      <td>100.00</td>\n",
              "      <td>7</td>\n",
              "      <td>2020</td>\n",
              "      <td>0</td>\n",
              "      <td>NaN</td>\n",
              "      <td>NaN</td>\n",
              "      <td>1705824</td>\n",
              "      <td>NaN</td>\n",
              "      <td>NaN</td>\n",
              "      <td>3469</td>\n",
              "      <td>7070337</td>\n",
              "      <td>http://camara.leg.br/cota-parlamentar/nota-fis...</td>\n",
              "    </tr>\n",
              "    <tr>\n",
              "      <th>68875</th>\n",
              "      <td>Deuzinho Filho</td>\n",
              "      <td>5.024395e+10</td>\n",
              "      <td>213856.0</td>\n",
              "      <td>559.0</td>\n",
              "      <td>2019</td>\n",
              "      <td>CE</td>\n",
              "      <td>REPUBLICANOS</td>\n",
              "      <td>56</td>\n",
              "      <td>4</td>\n",
              "      <td>CONSULTORIAS, PESQUISAS E TRABALHOS TÉCNICOS.</td>\n",
              "      <td>0</td>\n",
              "      <td>NaN</td>\n",
              "      <td>ARAUJO E NOVAES ADVOGADOS ASSOCIADOS</td>\n",
              "      <td>240.696.960/0017-0</td>\n",
              "      <td>431</td>\n",
              "      <td>4</td>\n",
              "      <td>2020-07-20T00:00:00</td>\n",
              "      <td>8000.00</td>\n",
              "      <td>0.00</td>\n",
              "      <td>8000.00</td>\n",
              "      <td>7</td>\n",
              "      <td>2020</td>\n",
              "      <td>0</td>\n",
              "      <td>NaN</td>\n",
              "      <td>NaN</td>\n",
              "      <td>1707426</td>\n",
              "      <td>NaN</td>\n",
              "      <td>NaN</td>\n",
              "      <td>3469</td>\n",
              "      <td>7075076</td>\n",
              "      <td>http://camara.leg.br/cota-parlamentar/nota-fis...</td>\n",
              "    </tr>\n",
              "  </tbody>\n",
              "</table>\n",
              "</div>"
            ],
            "text/plain": [
              "      txNomeParlamentar  ...                                       urlDocumento\n",
              "68866     Carla Dickson  ...  http://camara.leg.br/cota-parlamentar/nota-fis...\n",
              "68867     Carla Dickson  ...  http://camara.leg.br/cota-parlamentar/nota-fis...\n",
              "68868     Carla Dickson  ...  http://camara.leg.br/cota-parlamentar/nota-fis...\n",
              "68869     Carla Dickson  ...  http://camara.leg.br/cota-parlamentar/nota-fis...\n",
              "68870     Carla Dickson  ...  http://camara.leg.br/cota-parlamentar/nota-fis...\n",
              "68871     Carla Dickson  ...  https://www.camara.leg.br/cota-parlamentar/doc...\n",
              "68872     Carla Dickson  ...  https://www.camara.leg.br/cota-parlamentar/doc...\n",
              "68873     Carla Dickson  ...                                                NaN\n",
              "68874    Deuzinho Filho  ...  http://camara.leg.br/cota-parlamentar/nota-fis...\n",
              "68875    Deuzinho Filho  ...  http://camara.leg.br/cota-parlamentar/nota-fis...\n",
              "\n",
              "[10 rows x 31 columns]"
            ]
          },
          "metadata": {
            "tags": []
          },
          "execution_count": 7
        }
      ]
    },
    {
      "cell_type": "markdown",
      "metadata": {
        "id": "C1P-uRXjrkR-",
        "colab_type": "text"
      },
      "source": [
        "- Pelo que parece temos linhas representando exclusivamente o nome do partido.\n",
        "- Têm colunas com NaN."
      ]
    },
    {
      "cell_type": "code",
      "metadata": {
        "id": "oQvDT37dvPQI",
        "colab_type": "code",
        "colab": {
          "base_uri": "https://localhost:8080/",
          "height": 238
        },
        "outputId": "7961a7f8-ffa2-45cc-b292-5246c7917ef1"
      },
      "source": [
        "deputados.groupby(['txNomeParlamentar']).size()"
      ],
      "execution_count": null,
      "outputs": [
        {
          "output_type": "execute_result",
          "data": {
            "text/plain": [
              "txNomeParlamentar\n",
              "Alice Portugal         78\n",
              "Angela Amin           112\n",
              "Arlindo Chinaglia     133\n",
              "Bacelar                72\n",
              "Benedita da Silva     112\n",
              "                     ... \n",
              "Vander Loubet         184\n",
              "Vicentinho            133\n",
              "Wellington Roberto    110\n",
              "Wilson Santiago       150\n",
              "Átila Lins             43\n",
              "Length: 68, dtype: int64"
            ]
          },
          "metadata": {
            "tags": []
          },
          "execution_count": 19
        }
      ]
    },
    {
      "cell_type": "markdown",
      "metadata": {
        "id": "ZQ9w-8Rrx6y6",
        "colab_type": "text"
      },
      "source": [
        "- Aparentemente, embora as primeiras linhas não estejam relacionadas aos nomes dos deputados, a maioria está."
      ]
    },
    {
      "cell_type": "code",
      "metadata": {
        "id": "VyDVda_0s7_e",
        "colab_type": "code",
        "colab": {
          "base_uri": "https://localhost:8080/",
          "height": 561
        },
        "outputId": "ef864738-c6de-4fdb-9daf-ba2d44303949"
      },
      "source": [
        "deputados.isnull().sum()"
      ],
      "execution_count": null,
      "outputs": [
        {
          "output_type": "execute_result",
          "data": {
            "text/plain": [
              "txNomeParlamentar               0\n",
              "cpf                           228\n",
              "ideCadastro                   228\n",
              "nuCarteiraParlamentar         228\n",
              "nuLegislatura                   0\n",
              "sgUF                          228\n",
              "sgPartido                     228\n",
              "codLegislatura                  0\n",
              "numSubCota                      0\n",
              "txtDescricao                    0\n",
              "numEspecificacaoSubCota         0\n",
              "txtDescricaoEspecificacao    4634\n",
              "txtFornecedor                   1\n",
              "txtCNPJCPF                      0\n",
              "txtNumero                       0\n",
              "indTipoDocumento                0\n",
              "datEmissao                    156\n",
              "vlrDocumento                    0\n",
              "vlrGlosa                        0\n",
              "vlrLiquido                      1\n",
              "numMes                          1\n",
              "numAno                          1\n",
              "numParcela                      1\n",
              "txtPassageiro                5692\n",
              "txtTrecho                    5704\n",
              "numLote                         1\n",
              "numRessarcimento             4932\n",
              "vlrRestituicao               6071\n",
              "nuDeputadoId                    1\n",
              "ideDocumento                    1\n",
              "urlDocumento                 1711\n",
              "dtype: int64"
            ]
          },
          "metadata": {
            "tags": []
          },
          "execution_count": 5
        }
      ]
    },
    {
      "cell_type": "markdown",
      "metadata": {
        "id": "21dkoyquyLmO",
        "colab_type": "text"
      },
      "source": [
        "- Os dados relacionados aos deputados começam na linha de número 228, se os campos com NANs em cpf acabam em 227."
      ]
    },
    {
      "cell_type": "code",
      "metadata": {
        "id": "nVl_tPHVW0Jh",
        "colab_type": "code",
        "colab": {
          "base_uri": "https://localhost:8080/",
          "height": 255
        },
        "outputId": "013b06f6-c0f1-4323-f865-b796a4d153d6"
      },
      "source": [
        "deputados2 = deputados.iloc[228:6072,:]\n",
        "deputados2.head"
      ],
      "execution_count": 74,
      "outputs": [
        {
          "output_type": "execute_result",
          "data": {
            "text/plain": [
              "<bound method NDFrame.head of      txNomeParlamentar  ...                                       urlDocumento\n",
              "228       Danilo Forte  ...  http://camara.leg.br/cota-parlamentar/nota-fis...\n",
              "229       Danilo Forte  ...  http://camara.leg.br/cota-parlamentar/nota-fis...\n",
              "230       Danilo Forte  ...  http://camara.leg.br/cota-parlamentar/nota-fis...\n",
              "231       Danilo Forte  ...  https://www.camara.leg.br/cota-parlamentar/doc...\n",
              "232       Danilo Forte  ...  http://camara.leg.br/cota-parlamentar/nota-fis...\n",
              "...                ...  ...                                                ...\n",
              "6067  Gonzaga Patriota  ...  http://camara.leg.br/cota-parlamentar/nota-fis...\n",
              "6068  Gonzaga Patriota  ...  http://camara.leg.br/cota-parlamentar/nota-fis...\n",
              "6069  Gonzaga Patriota  ...  http://camara.leg.br/cota-parlamentar/nota-fis...\n",
              "6070  Gonzaga Patriota  ...  http://camara.leg.br/cota-parlamentar/nota-fis...\n",
              "6071  Gonzaga Patriota  ...  http://camara.leg.br/cota-parlamentar/nota-fis...\n",
              "\n",
              "[5844 rows x 31 columns]>"
            ]
          },
          "metadata": {
            "tags": []
          },
          "execution_count": 74
        }
      ]
    },
    {
      "cell_type": "code",
      "metadata": {
        "id": "TsefWCKWfqfo",
        "colab_type": "code",
        "colab": {
          "base_uri": "https://localhost:8080/",
          "height": 1000
        },
        "outputId": "5a1b16df-7a8f-4548-ee6e-150be3da2849"
      },
      "source": [
        "deputados2 = deputados2[[\"txNomeParlamentar\",\"vlrLiquido\",\"vlrRestituicao\",\"sgPartido\"]]\n",
        "agrupado = deputados2.groupby([\"txNomeParlamentar\",\"sgPartido\"]).sum()\n",
        "print(agrupado)"
      ],
      "execution_count": 115,
      "outputs": [
        {
          "output_type": "stream",
          "text": [
            "                                  vlrLiquido  vlrRestituicao\n",
            "txNomeParlamentar   sgPartido                               \n",
            "Alice Portugal      PCdoB          178125.94            0.00\n",
            "Angela Amin         PP             164847.85            0.00\n",
            "Arlindo Chinaglia   PT              62039.64            0.00\n",
            "Bacelar             PODE           159836.30            0.00\n",
            "Benedita da Silva   PT             126587.52            0.00\n",
            "Bosco Costa         PL              92679.40            0.00\n",
            "Carlos Sampaio      PSDB            72037.61         1272.32\n",
            "Celso Russomanno    REPUBLICANOS    32618.46            0.00\n",
            "Daniel Almeida      PCdoB          247661.45            0.00\n",
            "Danilo Forte        PSDB            21247.42            0.00\n",
            "Darcísio Perondi    MDB             46810.39            0.00\n",
            "Elcione Barbalho    MDB             42169.92            0.00\n",
            "Fausto Pinato       PP              77308.30            0.00\n",
            "Felipe Carreras     PSB                35.68            0.00\n",
            "Fábio Henrique      PDT            226262.68            0.00\n",
            "Gastão Vieira       PROS           151917.05            0.00\n",
            "Giacobo             PL             143841.71            0.00\n",
            "Gilberto Nascimento PSC            137907.49            0.00\n",
            "Gonzaga Patriota    PSB              8139.20            0.00\n",
            "Gustavo Fruet       PDT             31627.86            0.00\n",
            "Henrique Fontana    PT             105293.10            0.00\n",
            "Hermes Parcianello  MDB            160622.46            0.00\n",
            "Iracema Portella    PP             135532.93            0.00\n",
            "Ivan Valente        PSOL            76593.98            0.00\n",
            "Jefferson Campos    PSB             49247.51            0.00\n",
            "José Priante        MDB             10180.47            0.00\n",
            "João Campos         REPUBLICANOS   187126.50            0.00\n",
            "Júlio Cesar         PSD            218355.12            0.00\n",
            "Júlio Delgado       PSB            132076.21            0.00\n",
            "Leonardo Monteiro   PT             182294.87            0.00\n",
            "Leônidas Cristino   PDT            121796.40            0.00\n",
            "Maria do Rosário    PT             133455.65            0.00\n",
            "Mário Heringer      PDT            144091.64            0.00\n",
            "Nilson Pinto        PSDB           182010.88            0.00\n",
            "Norma Ayub          DEM             66631.65            0.00\n",
            "Odair Cunha         PT             127112.56            0.00\n",
            "Osmar Terra         MDB            163642.61            0.00\n",
            "Paes Landim         PTB             84854.67            0.00\n",
            "Patrus Ananias      PT             159257.35            0.00\n",
            "Paulo Pimenta       PT             101680.09            0.00\n",
            "Perpétua Almeida    PCdoB          187756.58            0.00\n",
            "Pompeo de Mattos    PDT            136187.92            0.00\n",
            "Reginaldo Lopes     PT             100149.08            0.00\n",
            "Renildo Calheiros   PCdoB          138055.92            0.00\n",
            "Ricardo Barros      PP             167518.68            0.00\n",
            "Roberto Pessoa      PSDB           210444.09            0.00\n",
            "Rubens Bueno        CIDADANIA       76239.21            0.00\n",
            "Rubens Otoni        PT             209471.65            0.00\n",
            "Rui Falcão          PT             104039.06            0.00\n",
            "Silas Câmara        REPUBLICANOS   275948.75            0.00\n",
            "Sérgio Brito        PSD            156639.33            0.00\n",
            "Vander Loubet       PT             169982.86            0.00\n",
            "Vicentinho          PT              60475.80            0.00\n",
            "Wellington Roberto  PL             265226.49            0.00\n",
            "Wilson Santiago     PTB            188845.61            0.00\n",
            "Átila Lins          PP              64642.09            0.00\n"
          ],
          "name": "stdout"
        }
      ]
    },
    {
      "cell_type": "code",
      "metadata": {
        "id": "4HgluedLDqE7",
        "colab_type": "code",
        "colab": {
          "base_uri": "https://localhost:8080/",
          "height": 297
        },
        "outputId": "5ac6c03c-52ee-4622-ca70-0a58c9b41ac3"
      },
      "source": [
        "agrupado.describe()"
      ],
      "execution_count": 120,
      "outputs": [
        {
          "output_type": "execute_result",
          "data": {
            "text/html": [
              "<div>\n",
              "<style scoped>\n",
              "    .dataframe tbody tr th:only-of-type {\n",
              "        vertical-align: middle;\n",
              "    }\n",
              "\n",
              "    .dataframe tbody tr th {\n",
              "        vertical-align: top;\n",
              "    }\n",
              "\n",
              "    .dataframe thead th {\n",
              "        text-align: right;\n",
              "    }\n",
              "</style>\n",
              "<table border=\"1\" class=\"dataframe\">\n",
              "  <thead>\n",
              "    <tr style=\"text-align: right;\">\n",
              "      <th></th>\n",
              "      <th>vlrLiquido</th>\n",
              "      <th>vlrRestituicao</th>\n",
              "    </tr>\n",
              "  </thead>\n",
              "  <tbody>\n",
              "    <tr>\n",
              "      <th>count</th>\n",
              "      <td>56.000000</td>\n",
              "      <td>56.000000</td>\n",
              "    </tr>\n",
              "    <tr>\n",
              "      <th>mean</th>\n",
              "      <td>126378.243571</td>\n",
              "      <td>22.720000</td>\n",
              "    </tr>\n",
              "    <tr>\n",
              "      <th>std</th>\n",
              "      <td>66682.194694</td>\n",
              "      <td>170.020912</td>\n",
              "    </tr>\n",
              "    <tr>\n",
              "      <th>min</th>\n",
              "      <td>35.680000</td>\n",
              "      <td>0.000000</td>\n",
              "    </tr>\n",
              "    <tr>\n",
              "      <th>25%</th>\n",
              "      <td>75188.810000</td>\n",
              "      <td>0.000000</td>\n",
              "    </tr>\n",
              "    <tr>\n",
              "      <th>50%</th>\n",
              "      <td>134494.290000</td>\n",
              "      <td>0.000000</td>\n",
              "    </tr>\n",
              "    <tr>\n",
              "      <th>75%</th>\n",
              "      <td>168134.725000</td>\n",
              "      <td>0.000000</td>\n",
              "    </tr>\n",
              "    <tr>\n",
              "      <th>max</th>\n",
              "      <td>275948.750000</td>\n",
              "      <td>1272.320000</td>\n",
              "    </tr>\n",
              "  </tbody>\n",
              "</table>\n",
              "</div>"
            ],
            "text/plain": [
              "          vlrLiquido  vlrRestituicao\n",
              "count      56.000000       56.000000\n",
              "mean   126378.243571       22.720000\n",
              "std     66682.194694      170.020912\n",
              "min        35.680000        0.000000\n",
              "25%     75188.810000        0.000000\n",
              "50%    134494.290000        0.000000\n",
              "75%    168134.725000        0.000000\n",
              "max    275948.750000     1272.320000"
            ]
          },
          "metadata": {
            "tags": []
          },
          "execution_count": 120
        }
      ]
    },
    {
      "cell_type": "code",
      "metadata": {
        "id": "9Y7HeeUlClqI",
        "colab_type": "code",
        "colab": {
          "base_uri": "https://localhost:8080/",
          "height": 315
        },
        "outputId": "f9efcf52-2567-432c-de57-ab861bc5b7e0"
      },
      "source": [
        "agrupado.hist(\"vlrLiquido\", bins = 5)"
      ],
      "execution_count": 118,
      "outputs": [
        {
          "output_type": "execute_result",
          "data": {
            "text/plain": [
              "array([[<matplotlib.axes._subplots.AxesSubplot object at 0x7f7670932390>]],\n",
              "      dtype=object)"
            ]
          },
          "metadata": {
            "tags": []
          },
          "execution_count": 118
        },
        {
          "output_type": "display_data",
          "data": {
            "image/png": "[encoded data removed]",
            "text/plain": [
              "<Figure size 432x288 with 1 Axes>"
            ]
          },
          "metadata": {
            "tags": [],
            "needs_background": "light"
          }
        }
      ]
    },
    {
      "cell_type": "code",
      "metadata": {
        "id": "K_K7gZrSpexb",
        "colab_type": "code",
        "colab": {
          "base_uri": "https://localhost:8080/",
          "height": 255
        },
        "outputId": "bfe07cd7-e764-4298-a05f-0b3dd7bc0fee"
      },
      "source": [
        "deputados3 = deputados.iloc[:228,:]\n",
        "deputados3.head"
      ],
      "execution_count": 79,
      "outputs": [
        {
          "output_type": "execute_result",
          "data": {
            "text/plain": [
              "<bound method NDFrame.head of     txNomeParlamentar  ...                                       urlDocumento\n",
              "0                 DEM  ...  http://camara.leg.br/cota-parlamentar/nota-fis...\n",
              "1                 DEM  ...  http://camara.leg.br/cota-parlamentar/nota-fis...\n",
              "2                 DEM  ...  http://camara.leg.br/cota-parlamentar/nota-fis...\n",
              "3                 DEM  ...  http://camara.leg.br/cota-parlamentar/nota-fis...\n",
              "4                 DEM  ...                                                NaN\n",
              "..                ...  ...                                                ...\n",
              "223               SDD  ...  http://camara.leg.br/cota-parlamentar/nota-fis...\n",
              "224               SDD  ...  http://camara.leg.br/cota-parlamentar/nota-fis...\n",
              "225               SDD  ...  http://camara.leg.br/cota-parlamentar/nota-fis...\n",
              "226               SDD  ...  http://camara.leg.br/cota-parlamentar/nota-fis...\n",
              "227               SDD  ...  http://camara.leg.br/cota-parlamentar/nota-fis...\n",
              "\n",
              "[228 rows x 31 columns]>"
            ]
          },
          "metadata": {
            "tags": []
          },
          "execution_count": 79
        }
      ]
    },
    {
      "cell_type": "code",
      "metadata": {
        "id": "V0BWdPV_scDv",
        "colab_type": "code",
        "colab": {
          "base_uri": "https://localhost:8080/",
          "height": 255
        },
        "outputId": "b84aefce-c712-479d-e64b-56ecdd2013d7"
      },
      "source": [
        "deputados3 = deputados3[[\"txNomeParlamentar\",\"vlrLiquido\",\"vlrRestituicao\",\"sgPartido\"]]\n",
        "agrupado = deputados3.groupby([\"txNomeParlamentar\"]).sum().sort_values([\"vlrLiquido\"], ascending = False)\n",
        "print(agrupado)"
      ],
      "execution_count": 111,
      "outputs": [
        {
          "output_type": "stream",
          "text": [
            "                   vlrLiquido  vlrRestituicao\n",
            "txNomeParlamentar                            \n",
            "LIDERANÇA DO PT      69367.09             0.0\n",
            "PDT                  60450.00             0.0\n",
            "PROS                 35577.26             0.0\n",
            "PODE                 16150.96             0.0\n",
            "PP                   16000.00             0.0\n",
            "LIDERANÇA DO PSDB    15235.01             0.0\n",
            "PTB                  14255.84             0.0\n",
            "SDD                  10098.49             0.0\n",
            "DEM                   8851.26             0.0\n",
            "PSD                   8476.01             0.0\n",
            "NOVO                  6349.36             0.0\n",
            "LIDMIN                5221.35             0.0\n"
          ],
          "name": "stdout"
        }
      ]
    },
    {
      "cell_type": "code",
      "metadata": {
        "id": "CfBhy5F4swBv",
        "colab_type": "code",
        "colab": {
          "base_uri": "https://localhost:8080/",
          "height": 282
        },
        "outputId": "fae13b61-78d5-4174-92f2-4d9137ad5208"
      },
      "source": [
        "agrupado[\"vlrLiquido\"].hist(bins=3)"
      ],
      "execution_count": 113,
      "outputs": [
        {
          "output_type": "execute_result",
          "data": {
            "text/plain": [
              "<matplotlib.axes._subplots.AxesSubplot at 0x7f7670347e10>"
            ]
          },
          "metadata": {
            "tags": []
          },
          "execution_count": 113
        },
        {
          "output_type": "display_data",
          "data": {
            "image/png": "[encoded data removed]",
            "text/plain": [
              "<Figure size 432x288 with 1 Axes>"
            ]
          },
          "metadata": {
            "tags": [],
            "needs_background": "light"
          }
        }
      ]
    },
    {
      "cell_type": "code",
      "metadata": {
        "id": "rJgrRZQpkZ79",
        "colab_type": "code",
        "colab": {
          "base_uri": "https://localhost:8080/",
          "height": 282
        },
        "outputId": "f9db367a-eea4-4be4-ad23-09919c078e76"
      },
      "source": [
        "deputados['vlrLiquido'].hist()"
      ],
      "execution_count": null,
      "outputs": [
        {
          "output_type": "execute_result",
          "data": {
            "text/plain": [
              "<matplotlib.axes._subplots.AxesSubplot at 0x7fb6e22d96a0>"
            ]
          },
          "metadata": {
            "tags": []
          },
          "execution_count": 33
        },
        {
          "output_type": "display_data",
          "data": {
            "image/png": "[encoded data removed]",
            "text/plain": [
              "<Figure size 432x288 with 1 Axes>"
            ]
          },
          "metadata": {
            "tags": [],
            "needs_background": "light"
          }
        }
      ]
    },
    {
      "cell_type": "markdown",
      "metadata": {
        "id": "3MRZyeGp51-D",
        "colab_type": "text"
      },
      "source": [
        "- Pelo histograma, percebemos que de fato existe uma concentração do valor líquido no começo, o que é mais um índicio que os dados estão ordenados de forma que os dados dos deputados aparecem apenas depois de informações relacionadas aos partidos."
      ]
    },
    {
      "cell_type": "code",
      "metadata": {
        "id": "pf9TL29Q1oBg",
        "colab_type": "code",
        "colab": {
          "base_uri": "https://localhost:8080/",
          "height": 170
        },
        "outputId": "d2674fec-2268-4255-aa1d-8e92a40d0917"
      },
      "source": [
        "deputados.columns\n"
      ],
      "execution_count": null,
      "outputs": [
        {
          "output_type": "execute_result",
          "data": {
            "text/plain": [
              "Index(['txNomeParlamentar', 'cpf', 'ideCadastro', 'nuCarteiraParlamentar',\n",
              "       'nuLegislatura', 'sgUF', 'sgPartido', 'codLegislatura', 'numSubCota',\n",
              "       'txtDescricao', 'numEspecificacaoSubCota', 'txtDescricaoEspecificacao',\n",
              "       'txtFornecedor', 'txtCNPJCPF', 'txtNumero', 'indTipoDocumento',\n",
              "       'datEmissao', 'vlrDocumento', 'vlrGlosa', 'vlrLiquido', 'numMes',\n",
              "       'numAno', 'numParcela', 'txtPassageiro', 'txtTrecho', 'numLote',\n",
              "       'numRessarcimento', 'vlrRestituicao', 'nuDeputadoId', 'ideDocumento',\n",
              "       'urlDocumento'],\n",
              "      dtype='object')"
            ]
          },
          "metadata": {
            "tags": []
          },
          "execution_count": 34
        }
      ]
    },
    {
      "cell_type": "code",
      "metadata": {
        "id": "QZhyuY-XyZcb",
        "colab_type": "code",
        "colab": {
          "base_uri": "https://localhost:8080/",
          "height": 561
        },
        "outputId": "bfad3a9e-513f-402a-ab13-d612034c9af6"
      },
      "source": [
        "deputados.iloc[228,:]"
      ],
      "execution_count": null,
      "outputs": [
        {
          "output_type": "execute_result",
          "data": {
            "text/plain": [
              "txNomeParlamentar                                                 Danilo Forte\n",
              "cpf                                                                1.21337e+10\n",
              "ideCadastro                                                              62881\n",
              "nuCarteiraParlamentar                                                      558\n",
              "nuLegislatura                                                             2019\n",
              "sgUF                                                                        CE\n",
              "sgPartido                                                                 PSDB\n",
              "codLegislatura                                                              56\n",
              "numSubCota                                                                   1\n",
              "txtDescricao                 MANUTENÇÃO DE ESCRITÓRIO DE APOIO À ATIVIDADE ...\n",
              "numEspecificacaoSubCota                                                      0\n",
              "txtDescricaoEspecificacao                                                  NaN\n",
              "txtFornecedor                        Kalunga Comercio e Industria Grafica Ltda\n",
              "txtCNPJCPF                                                  432.838.110/0597-6\n",
              "txtNumero                                                               448687\n",
              "indTipoDocumento                                                             4\n",
              "datEmissao                                                 2020-07-21T00:00:00\n",
              "vlrDocumento                                                              43.3\n",
              "vlrGlosa                                                                     0\n",
              "vlrLiquido                                                                43.3\n",
              "numMes                                                                       7\n",
              "numAno                                                                    2020\n",
              "numParcela                                                                   0\n",
              "txtPassageiro                                                              NaN\n",
              "txtTrecho                                                                  NaN\n",
              "numLote                                                            1.70704e+06\n",
              "numRessarcimento                                                           NaN\n",
              "vlrRestituicao                                                             NaN\n",
              "nuDeputadoId                                                              2227\n",
              "ideDocumento                                                       7.07423e+06\n",
              "urlDocumento                 http://camara.leg.br/cota-parlamentar/nota-fis...\n",
              "Name: 228, dtype: object"
            ]
          },
          "metadata": {
            "tags": []
          },
          "execution_count": 23
        }
      ]
    },
    {
      "cell_type": "code",
      "metadata": {
        "id": "uCkHeC64dE-0",
        "colab_type": "code",
        "colab": {
          "base_uri": "https://localhost:8080/",
          "height": 238
        },
        "outputId": "248c7a49-3ec8-4ca4-ac94-7122dc681eca"
      },
      "source": [
        "# Show how many rows by group\n",
        "deputados.groupby('txNomeParlamentar').size()"
      ],
      "execution_count": null,
      "outputs": [
        {
          "output_type": "execute_result",
          "data": {
            "text/plain": [
              "txNomeParlamentar\n",
              "AJ Albuquerque     85\n",
              "Abou Anni         287\n",
              "Abílio Santana    179\n",
              "Acácio Favacho     90\n",
              "Adolfo Viana       74\n",
              "                 ... \n",
              "Zé Silva          185\n",
              "Zé Vitor          188\n",
              "Átila Lins         43\n",
              "Átila Lira         37\n",
              "Áurea Carolina     99\n",
              "Length: 543, dtype: int64"
            ]
          },
          "metadata": {
            "tags": []
          },
          "execution_count": 40
        }
      ]
    },
    {
      "cell_type": "code",
      "metadata": {
        "id": "vnZ-gtK5R3X8",
        "colab_type": "code",
        "colab": {
          "base_uri": "https://localhost:8080/",
          "height": 450
        },
        "outputId": "64f688f7-5041-4f83-d21c-37896c93b26a"
      },
      "source": [
        "gastos = deputados[['txNomeParlamentar','vlrLiquido','sgPartido']].groupby(['txNomeParlamentar','sgPartido'])\n",
        "gastos.sum()"
      ],
      "execution_count": null,
      "outputs": [
        {
          "output_type": "execute_result",
          "data": {
            "text/html": [
              "<div>\n",
              "<style scoped>\n",
              "    .dataframe tbody tr th:only-of-type {\n",
              "        vertical-align: middle;\n",
              "    }\n",
              "\n",
              "    .dataframe tbody tr th {\n",
              "        vertical-align: top;\n",
              "    }\n",
              "\n",
              "    .dataframe thead th {\n",
              "        text-align: right;\n",
              "    }\n",
              "</style>\n",
              "<table border=\"1\" class=\"dataframe\">\n",
              "  <thead>\n",
              "    <tr style=\"text-align: right;\">\n",
              "      <th></th>\n",
              "      <th></th>\n",
              "      <th>vlrLiquido</th>\n",
              "    </tr>\n",
              "    <tr>\n",
              "      <th>txNomeParlamentar</th>\n",
              "      <th>sgPartido</th>\n",
              "      <th></th>\n",
              "    </tr>\n",
              "  </thead>\n",
              "  <tbody>\n",
              "    <tr>\n",
              "      <th>AJ Albuquerque</th>\n",
              "      <th>PP</th>\n",
              "      <td>185519.97</td>\n",
              "    </tr>\n",
              "    <tr>\n",
              "      <th>Abou Anni</th>\n",
              "      <th>PSL</th>\n",
              "      <td>127050.33</td>\n",
              "    </tr>\n",
              "    <tr>\n",
              "      <th>Abílio Santana</th>\n",
              "      <th>PL</th>\n",
              "      <td>221966.05</td>\n",
              "    </tr>\n",
              "    <tr>\n",
              "      <th>Acácio Favacho</th>\n",
              "      <th>PROS</th>\n",
              "      <td>266257.87</td>\n",
              "    </tr>\n",
              "    <tr>\n",
              "      <th>Adolfo Viana</th>\n",
              "      <th>PSDB</th>\n",
              "      <td>162231.38</td>\n",
              "    </tr>\n",
              "    <tr>\n",
              "      <th>...</th>\n",
              "      <th>...</th>\n",
              "      <td>...</td>\n",
              "    </tr>\n",
              "    <tr>\n",
              "      <th>Zé Silva</th>\n",
              "      <th>SOLIDARIEDADE</th>\n",
              "      <td>169638.65</td>\n",
              "    </tr>\n",
              "    <tr>\n",
              "      <th>Zé Vitor</th>\n",
              "      <th>PL</th>\n",
              "      <td>178249.35</td>\n",
              "    </tr>\n",
              "    <tr>\n",
              "      <th>Átila Lins</th>\n",
              "      <th>PP</th>\n",
              "      <td>64642.09</td>\n",
              "    </tr>\n",
              "    <tr>\n",
              "      <th>Átila Lira</th>\n",
              "      <th>PP</th>\n",
              "      <td>125960.25</td>\n",
              "    </tr>\n",
              "    <tr>\n",
              "      <th>Áurea Carolina</th>\n",
              "      <th>PSOL</th>\n",
              "      <td>115056.70</td>\n",
              "    </tr>\n",
              "  </tbody>\n",
              "</table>\n",
              "<p>531 rows × 1 columns</p>\n",
              "</div>"
            ],
            "text/plain": [
              "                                 vlrLiquido\n",
              "txNomeParlamentar sgPartido                \n",
              "AJ Albuquerque    PP              185519.97\n",
              "Abou Anni         PSL             127050.33\n",
              "Abílio Santana    PL              221966.05\n",
              "Acácio Favacho    PROS            266257.87\n",
              "Adolfo Viana      PSDB            162231.38\n",
              "...                                     ...\n",
              "Zé Silva          SOLIDARIEDADE   169638.65\n",
              "Zé Vitor          PL              178249.35\n",
              "Átila Lins        PP               64642.09\n",
              "Átila Lira        PP              125960.25\n",
              "Áurea Carolina    PSOL            115056.70\n",
              "\n",
              "[531 rows x 1 columns]"
            ]
          },
          "metadata": {
            "tags": []
          },
          "execution_count": 43
        }
      ]
    },
    {
      "cell_type": "code",
      "metadata": {
        "id": "8Wij7hK9kTQJ",
        "colab_type": "code",
        "colab": {
          "base_uri": "https://localhost:8080/",
          "height": 170
        },
        "outputId": "d8724dba-c741-470e-eedd-5256716aaa6a"
      },
      "source": [
        "deputados['vlrLiquido'].describe()"
      ],
      "execution_count": null,
      "outputs": [
        {
          "output_type": "execute_result",
          "data": {
            "text/plain": [
              "count    68876.000000\n",
              "mean      1056.689447\n",
              "std       2567.532667\n",
              "min      -3297.760000\n",
              "25%         66.950000\n",
              "50%        184.955000\n",
              "75%        650.000000\n",
              "max      57500.000000\n",
              "Name: vlrLiquido, dtype: float64"
            ]
          },
          "metadata": {
            "tags": []
          },
          "execution_count": 18
        }
      ]
    },
    {
      "cell_type": "code",
      "metadata": {
        "id": "Oc0oxMhHBXVH",
        "colab_type": "code",
        "colab": {
          "base_uri": "https://localhost:8080/",
          "height": 163
        },
        "outputId": "8b3abd74-da8d-4b08-93e4-43d818b8cc74"
      },
      "source": [
        "plt.boxploat()"
      ],
      "execution_count": null,
      "outputs": [
        {
          "output_type": "error",
          "ename": "AttributeError",
          "evalue": "ignored",
          "traceback": [
            "\u001b[0;31m---------------------------------------------------------------------------\u001b[0m",
            "\u001b[0;31mAttributeError\u001b[0m                            Traceback (most recent call last)",
            "\u001b[0;32m<ipython-input-54-85da2011daa0>\u001b[0m in \u001b[0;36m<module>\u001b[0;34m()\u001b[0m\n\u001b[0;32m----> 1\u001b[0;31m \u001b[0mplt\u001b[0m\u001b[0;34m.\u001b[0m\u001b[0mboxploat\u001b[0m\u001b[0;34m(\u001b[0m\u001b[0mdeputados\u001b[0m\u001b[0;34m[\u001b[0m\u001b[0;34m'vlrLiquido'\u001b[0m\u001b[0;34m]\u001b[0m\u001b[0;34m.\u001b[0m\u001b[0mcount\u001b[0m\u001b[0;34m)\u001b[0m\u001b[0;34m\u001b[0m\u001b[0;34m\u001b[0m\u001b[0m\n\u001b[0m",
            "\u001b[0;31mAttributeError\u001b[0m: module 'matplotlib' has no attribute 'boxploat'"
          ]
        }
      ]
    },
    {
      "cell_type": "code",
      "metadata": {
        "id": "gk6JSRoTknTE",
        "colab_type": "code",
        "colab": {
          "base_uri": "https://localhost:8080/",
          "height": 459
        },
        "outputId": "ddbbee22-7dc2-4c66-a825-4fa25cf54964"
      },
      "source": [
        "deputados.groupby('sgPartido').size()"
      ],
      "execution_count": null,
      "outputs": [
        {
          "output_type": "execute_result",
          "data": {
            "text/plain": [
              "sgPartido\n",
              "AVANTE            965\n",
              "CIDADANIA        1226\n",
              "DEM              3056\n",
              "MDB              4682\n",
              "NOVO              818\n",
              "PATRIOTA          960\n",
              "PCdoB             837\n",
              "PDT              3427\n",
              "PL               5058\n",
              "PODE             1376\n",
              "PP               5251\n",
              "PROS             1082\n",
              "PSB              4048\n",
              "PSC               769\n",
              "PSD              4346\n",
              "PSDB             4453\n",
              "PSL              9948\n",
              "PSOL              951\n",
              "PT               8415\n",
              "PTB              1441\n",
              "PV                367\n",
              "REDE               78\n",
              "REPUBLICANOS     3530\n",
              "SOLIDARIEDADE    1564\n",
              "dtype: int64"
            ]
          },
          "metadata": {
            "tags": []
          },
          "execution_count": 7
        }
      ]
    },
    {
      "cell_type": "code",
      "metadata": {
        "id": "miYGf0krRzpw",
        "colab_type": "code",
        "colab": {}
      },
      "source": [
        ""
      ],
      "execution_count": null,
      "outputs": []
    }
  ]
}